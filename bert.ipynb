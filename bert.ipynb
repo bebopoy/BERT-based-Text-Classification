{
 "cells": [
  {
   "cell_type": "markdown",
   "id": "35fbdd8c-d4b2-49c9-993c-b633d025d266",
   "metadata": {},
   "source": [
    "## 导入库"
   ]
  },
  {
   "cell_type": "code",
   "execution_count": 1,
   "id": "96afcb66-d049-4bab-b865-1d3e296a0e7d",
   "metadata": {},
   "outputs": [
    {
     "name": "stderr",
     "output_type": "stream",
     "text": [
      "D:\\ProgramData\\Anaconda3\\envs\\pytorch_gpu\\lib\\site-packages\\tqdm\\auto.py:21: TqdmWarning: IProgress not found. Please update jupyter and ipywidgets. See https://ipywidgets.readthedocs.io/en/stable/user_install.html\n",
      "  from .autonotebook import tqdm as notebook_tqdm\n"
     ]
    }
   ],
   "source": [
    "import sklearn\n",
    "import transformers\n",
    "import torch"
   ]
  },
  {
   "cell_type": "code",
   "execution_count": 2,
   "id": "92d7edf4-c618-4899-a567-8cac835dec8b",
   "metadata": {},
   "outputs": [
    {
     "data": {
      "text/plain": [
       "device(type='cuda')"
      ]
     },
     "execution_count": 2,
     "metadata": {},
     "output_type": "execute_result"
    }
   ],
   "source": [
    "import torch\n",
    "device = torch.device(\"cuda\" if torch.cuda.is_available() else \"cpu\")\n",
    "device"
   ]
  },
  {
   "cell_type": "markdown",
   "id": "746b9c76-d931-4bee-aca3-f7f139fbfff9",
   "metadata": {},
   "source": [
    "## 数据预处理"
   ]
  },
  {
   "cell_type": "markdown",
   "id": "c5ba4ae7-acfc-48c4-aae5-d1f803c9c9ba",
   "metadata": {},
   "source": [
    "### 加载数据"
   ]
  },
  {
   "cell_type": "code",
   "execution_count": 3,
   "id": "1ab4f0e8-2342-474e-913a-e7a961dd25e8",
   "metadata": {},
   "outputs": [],
   "source": [
    "from transformers import BertTokenizer\n",
    "import pandas as pd\n",
    "\n",
    "def load_data(file_path):\n",
    "    # 加载数据\n",
    "    df = pd.read_csv(file_path, delimiter='\\t', header=None, names=['question', 'label'])\n",
    "    input_data = df['question'].tolist()\n",
    "    labels = df['label'].tolist()\n",
    "    return input_data, labels\n",
    "\n",
    "train_data, train_labels = load_data('data/train.txt')\n",
    "dev_data, dev_labels = load_data('data/dev.txt')\n",
    "test_data, _ = load_data('data/test.txt')  # 测试集可能没有标签"
   ]
  },
  {
   "cell_type": "code",
   "execution_count": 4,
   "id": "cb5002bc-6a10-45f2-b389-046ee3bc5063",
   "metadata": {
    "tags": []
   },
   "outputs": [
    {
     "data": {
      "text/plain": [
       "('空腹血糖78，是否属于糖尿病范围?', 0)"
      ]
     },
     "execution_count": 4,
     "metadata": {},
     "output_type": "execute_result"
    }
   ],
   "source": [
    "train_data[0], train_labels[0]"
   ]
  },
  {
   "cell_type": "markdown",
   "id": "133cc4e3-41f8-4299-a812-b947c9f9bd1f",
   "metadata": {
    "tags": []
   },
   "source": [
    "### 分词与编码"
   ]
  },
  {
   "cell_type": "code",
   "execution_count": 5,
   "id": "508c3931-c2bc-4e59-b794-5adecaf398be",
   "metadata": {},
   "outputs": [],
   "source": [
    "def tokenize(input_data):\n",
    "    # 加载分词器（Tokenizer）\n",
    "    tokenizer = BertTokenizer.from_pretrained('bert-base-chinese')\n",
    "    # 分词与编码\n",
    "    encoded_input = tokenizer(input_data, padding=True, truncation=True, max_length=25, return_tensors='pt').to(device)\n",
    "    return encoded_input\n",
    "\n",
    "encoded_train = tokenize(train_data)\n",
    "encoded_dev = tokenize(dev_data)\n",
    "encoded_test = tokenize(test_data)"
   ]
  },
  {
   "cell_type": "code",
   "execution_count": 6,
   "id": "335c1260-174e-41b9-bbb2-46ed03bbc24b",
   "metadata": {},
   "outputs": [
    {
     "data": {
      "text/plain": [
       "(tensor([ 101, 4958, 5592, 6117, 5131, 8409, 8024, 3221, 1415, 2247,  754, 5131,\n",
       "         2228, 4567, 5745, 1741,  136,  102,    0,    0,    0,    0,    0,    0,\n",
       "            0], device='cuda:0'),\n",
       " '[CLS] 空 腹 血 糖 78 ， 是 否 属 于 糖 尿 病 范 围? [SEP] [PAD] [PAD] [PAD] [PAD] [PAD] [PAD] [PAD]')"
      ]
     },
     "execution_count": 6,
     "metadata": {},
     "output_type": "execute_result"
    }
   ],
   "source": [
    "# 查看第一个句子的词汇表索引及 Token\n",
    "tokenizer = BertTokenizer.from_pretrained('bert-base-chinese')\n",
    "encoded_train['input_ids'][0], tokenizer.decode(encoded_train['input_ids'][0])"
   ]
  },
  {
   "cell_type": "code",
   "execution_count": 7,
   "id": "7629c960-01d9-421a-945b-644b32cc3754",
   "metadata": {
    "tags": []
   },
   "outputs": [
    {
     "data": {
      "text/plain": [
       "{'input_ids': tensor([[ 101, 4958, 5592,  ...,    0,    0,    0],\n",
       "        [ 101, 1121, 5503,  ...,    0,    0,    0],\n",
       "        [ 101, 2642, 3300,  ...,  671,  807,  102],\n",
       "        ...,\n",
       "        [ 101, 3633, 6226,  ...,    0,    0,    0],\n",
       "        [ 101, 5131, 2228,  ...,    0,    0,    0],\n",
       "        [ 101, 5131, 2228,  ...,    0,    0,    0]], device='cuda:0'), 'token_type_ids': tensor([[0, 0, 0,  ..., 0, 0, 0],\n",
       "        [0, 0, 0,  ..., 0, 0, 0],\n",
       "        [0, 0, 0,  ..., 0, 0, 0],\n",
       "        ...,\n",
       "        [0, 0, 0,  ..., 0, 0, 0],\n",
       "        [0, 0, 0,  ..., 0, 0, 0],\n",
       "        [0, 0, 0,  ..., 0, 0, 0]], device='cuda:0'), 'attention_mask': tensor([[1, 1, 1,  ..., 0, 0, 0],\n",
       "        [1, 1, 1,  ..., 0, 0, 0],\n",
       "        [1, 1, 1,  ..., 1, 1, 1],\n",
       "        ...,\n",
       "        [1, 1, 1,  ..., 0, 0, 0],\n",
       "        [1, 1, 1,  ..., 0, 0, 0],\n",
       "        [1, 1, 1,  ..., 0, 0, 0]], device='cuda:0')}"
      ]
     },
     "execution_count": 7,
     "metadata": {},
     "output_type": "execute_result"
    }
   ],
   "source": [
    "encoded_train"
   ]
  },
  {
   "cell_type": "markdown",
   "id": "f6ce9b38-8ebd-49a4-9aab-02d9860211d5",
   "metadata": {},
   "source": [
    "## 向量表示"
   ]
  },
  {
   "cell_type": "markdown",
   "id": "215cec12-c3e0-4b48-87fe-a1c2512e3f93",
   "metadata": {
    "tags": []
   },
   "source": [
    "### 获取BERT隐藏层的输出"
   ]
  },
  {
   "cell_type": "code",
   "execution_count": 8,
   "id": "656b8c9a-f6b2-4b3e-bba8-c7ab74b6cdab",
   "metadata": {},
   "outputs": [],
   "source": [
    "from transformers import BertModel\n",
    "\n",
    "def bert_hidden_states(model, encoded_data):\n",
    "      \n",
    "    model.to(device)\n",
    "    # model.eval()\n",
    "\n",
    "    # text = \"空腹血糖5.8是否偏高?\"\n",
    "    hidden_states = []\n",
    "    indexed_tokens = encoded_data  # 获取ids序列，即词汇表索引\n",
    "    # print(indexed_tokens)\n",
    "    # for tokens in encoded_data:\n",
    "        # tokens_tensor = torch.tensor([indexed_tokens]).to(device) # 将输入转化为torch的tensor\n",
    "    with torch.no_grad(): # 获取该句子在BERT模型中的隐藏层输出，禁用梯度计算，因为只是前向传播获取隐藏层状态，所以不需要计算梯度\n",
    "        hidden_states = model(**indexed_tokens)\n",
    "    # print(hidden_states[2])\n",
    "\n",
    "    return hidden_states"
   ]
  },
  {
   "cell_type": "code",
   "execution_count": 9,
   "id": "1d6e0c6f-2fb9-4d6a-b198-b22c3953d691",
   "metadata": {
    "tags": []
   },
   "outputs": [
    {
     "data": {
      "text/plain": [
       "tensor([[ 101, 4958, 5592, 6117, 5131, 8409, 8024, 3221, 1415, 2247,  754, 5131,\n",
       "         2228, 4567, 5745, 1741,  136,  102,    0,    0,    0,    0,    0,    0,\n",
       "            0],\n",
       "        [ 101, 1121, 5503, 1400, 3221, 1415, 5543, 3121, 1587, 5131, 2228, 4567,\n",
       "         4307, 1105,  136,  102,    0,    0,    0,    0,    0,    0,    0,    0,\n",
       "            0],\n",
       "        [ 101, 2642, 3300, 5131, 2228, 4567, 4638, 3678,  779, 5445, 4266,  779,\n",
       "         3766, 3300, 8024, 3221, 1415,  833, 6890,  837, 5314,  678,  671,  807,\n",
       "          102],\n",
       "        [ 101, 5131, 2228, 4567, 3221, 1415,  833, 2471, 6629, 4706, 4714, 3717,\n",
       "         5514,  136,  102,    0,    0,    0,    0,    0,    0,    0,    0,    0,\n",
       "            0],\n",
       "        [ 101, 1969, 2027, 3309, 5131, 2228, 4567, 4638, 3800, 2692,  752, 7555,\n",
       "         3221,  784,  720,  136,  102,    0,    0,    0,    0,    0,    0,    0,\n",
       "            0],\n",
       "        [ 101, 5131, 2228, 4567, 2642, 5442, 3221, 1415, 1377,  809, 4500, 1054,\n",
       "         1346, 3796, 3717, 1600,  136,  102,    0,    0,    0,    0,    0,    0,\n",
       "            0],\n",
       "        [ 101, 2642, 3300, 5519, 5310, 4767,  684, 3300, 5131, 2228, 4567, 8024,\n",
       "         2418, 6421, 1963,  862, 1905, 4415,  136,  102,    0,    0,    0,    0,\n",
       "            0],\n",
       "        [ 101, 5131, 2228, 4567, 2552, 6117, 5052, 2400, 1355, 4568, 2418, 6421,\n",
       "         1963,  862, 1905, 4415,  136,  102,    0,    0,    0,    0,    0,    0,\n",
       "            0],\n",
       "        [ 101, 5131, 2228, 4567, 2471, 6629, 7755, 7767, 4142, 2418, 6421, 1963,\n",
       "          862, 1905, 4415,  136,  102,    0,    0,    0,    0,    0,    0,    0,\n",
       "            0],\n",
       "        [ 101, 5131, 2228, 4567, 2642, 5442, 3221, 1415, 1377,  809, 7608, 4500,\n",
       "         5166, 5961, 1469, 1298, 4478,  136,  102,    0,    0,    0,    0,    0,\n",
       "            0]], device='cuda:0')"
      ]
     },
     "execution_count": 9,
     "metadata": {},
     "output_type": "execute_result"
    }
   ],
   "source": [
    "encoded_train_part = {'input_ids': encoded_train['input_ids'][0:10], 'token_type_ids': encoded_train['token_type_ids'][0:10], 'attention_mask': encoded_train['attention_mask'][0:10]}\n",
    "encoded_train_part['input_ids']"
   ]
  },
  {
   "cell_type": "code",
   "execution_count": 10,
   "id": "c8b08bfb-8af9-4946-b8d9-2cf920ebb4d1",
   "metadata": {
    "tags": []
   },
   "outputs": [],
   "source": [
    "model = BertModel.from_pretrained('bert-base-chinese', output_hidden_states=True)  # 预训练的BERT模型\n",
    "train_hidden_states = bert_hidden_states(model, encoded_train_part)\n",
    "# dev_input_states = bert_hidden_states(model, encoded_dev)\n",
    "# train_hidden_states"
   ]
  },
  {
   "cell_type": "code",
   "execution_count": 11,
   "id": "d48b7958-4b11-4efe-9c1c-97d536cda959",
   "metadata": {
    "tags": []
   },
   "outputs": [
    {
     "data": {
      "text/plain": [
       "torch.Size([10, 25, 768])"
      ]
     },
     "execution_count": 11,
     "metadata": {},
     "output_type": "execute_result"
    }
   ],
   "source": [
    "# train_hidden_states[0][0][0]\n",
    "train_hidden_states['hidden_states'][-1].shape"
   ]
  },
  {
   "cell_type": "markdown",
   "id": "b32861a9-fc34-4a02-a540-03753215dc49",
   "metadata": {
    "tags": []
   },
   "source": [
    "### 句子的向量表示"
   ]
  },
  {
   "cell_type": "markdown",
   "id": "55ae9197-2f64-4ca7-89ad-3f67c1d69c92",
   "metadata": {},
   "source": [
    "#### 取BERT第3, 6, 9, 12层的第一个token对应的向量"
   ]
  },
  {
   "cell_type": "code",
   "execution_count": 12,
   "id": "10999a2c-59ab-452a-bc78-bac72dc098c0",
   "metadata": {
    "tags": []
   },
   "outputs": [],
   "source": [
    "def vector1(hidden_states): \n",
    "    vectors = []\n",
    "\n",
    "    for layer in [hidden_states[3], hidden_states[6], hidden_states[9], hidden_states[12]]:\n",
    "        layer_vectors = []\n",
    "        for state in layer:\n",
    "            layer_vectors.append(state[0])\n",
    "        layer_vectors = torch.stack(layer_vectors, dim=0)\n",
    "        vectors.append(layer_vectors)\n",
    "        \n",
    "    # print(vectors)\n",
    "    return torch.cat(vectors, dim=1)  # 将四个向量并成一个向量"
   ]
  },
  {
   "cell_type": "markdown",
   "id": "8618a8f2-b68e-425c-95d3-aa5114571afe",
   "metadata": {},
   "source": [
    "#### 取BERT最后四层的第一个token对应的向量进行融合"
   ]
  },
  {
   "cell_type": "code",
   "execution_count": 13,
   "id": "8fbd39eb-4700-4711-891a-58c461c6e407",
   "metadata": {
    "tags": []
   },
   "outputs": [],
   "source": [
    "def vector2(hidden_states): \n",
    "    vectors = []\n",
    "\n",
    "    for layer in hidden_states[-4:]:\n",
    "        layer_vectors = []\n",
    "        for state in layer:\n",
    "            layer_vectors.append(state[0])\n",
    "        layer_vectors = torch.stack(layer_vectors, dim=0)\n",
    "        vectors.append(layer_vectors)\n",
    "        \n",
    "    # print(vectors)\n",
    "    return torch.cat(vectors, dim=1)  # 将四个向量并成一个向量"
   ]
  },
  {
   "cell_type": "markdown",
   "id": "07994b39-1612-48de-bd9b-4fed083ca472",
   "metadata": {},
   "source": [
    "#### 取BERT最后四层第一个token对应的向量进行最大池化"
   ]
  },
  {
   "cell_type": "code",
   "execution_count": 14,
   "id": "925addc7-41e6-408e-b081-1ab244dadcdf",
   "metadata": {},
   "outputs": [],
   "source": [
    "def vector3(hidden_states): \n",
    "    vectors = []\n",
    "    \n",
    "    for layer in hidden_states[-4:]:\n",
    "        layer_vectors = []\n",
    "        for state in layer:\n",
    "            layer_vectors.append(state[0])\n",
    "        layer_vectors = torch.stack(layer_vectors, dim=0)\n",
    "        vectors.append(layer_vectors)\n",
    "        \n",
    "    # print(torch.max(torch.stack(vectors), dim=0))\n",
    "    return torch.max(torch.stack(vectors), dim=0).values  # 将四个向量并成一个向量"
   ]
  },
  {
   "cell_type": "markdown",
   "id": "b2d7b9e6-8817-4393-adec-af3d3b5d569c",
   "metadata": {},
   "source": [
    "#### 取BERT最后一层第一个和最后一个token对应的向量进行融合"
   ]
  },
  {
   "cell_type": "code",
   "execution_count": 15,
   "id": "dbe44c76-e0b1-4024-b990-4405d68bd72a",
   "metadata": {
    "tags": []
   },
   "outputs": [],
   "source": [
    "def vector4(last_hidden_state): \n",
    "    vectors = []\n",
    "\n",
    "    for state in last_hidden_state:\n",
    "        combine_tokens = (state[0] + state[-1]) / 2\n",
    "        vectors.append(combine_tokens)\n",
    "        # print(vectors)\n",
    "    \n",
    "    return torch.stack(vectors, dim=0)"
   ]
  },
  {
   "cell_type": "markdown",
   "id": "494e17bc-ee96-4535-a597-d6d147d3bcfd",
   "metadata": {},
   "source": [
    "#### 拼接最后一层隐藏层所有token的向量"
   ]
  },
  {
   "cell_type": "code",
   "execution_count": 16,
   "id": "70f0bce2-c8a7-4c55-9edc-327366d722c1",
   "metadata": {},
   "outputs": [],
   "source": [
    "def vector5(last_hidden_state):\n",
    "    vectors = []\n",
    "\n",
    "    for state in last_hidden_state:\n",
    "        combine_tokens = []\n",
    "        for token in state:\n",
    "            combine_tokens.append(token)\n",
    "        combine_tokens = torch.concat(combine_tokens)\n",
    "        vectors.append(combine_tokens)\n",
    "        # print(vectors)\n",
    "    \n",
    "    return torch.stack(vectors, dim=0)"
   ]
  },
  {
   "cell_type": "code",
   "execution_count": 17,
   "id": "46bfec2f-b66a-4c80-ba9b-4e8969d2ac5a",
   "metadata": {},
   "outputs": [
    {
     "data": {
      "text/plain": [
       "torch.Size([10, 25, 768])"
      ]
     },
     "execution_count": 17,
     "metadata": {},
     "output_type": "execute_result"
    }
   ],
   "source": [
    "x = torch.zeros_like(train_hidden_states['hidden_states'][-1])\n",
    "for tensor in train_hidden_states['hidden_states'][-4:]:\n",
    "    x += tensor\n",
    "x.shape"
   ]
  },
  {
   "cell_type": "code",
   "execution_count": 18,
   "id": "91b70078-0be2-467e-96ed-54caa986515e",
   "metadata": {},
   "outputs": [
    {
     "data": {
      "text/plain": [
       "torch.Size([10, 19200])"
      ]
     },
     "execution_count": 18,
     "metadata": {},
     "output_type": "execute_result"
    }
   ],
   "source": [
    "vector5(train_hidden_states['last_hidden_state']).shape"
   ]
  },
  {
   "cell_type": "markdown",
   "id": "56732c8e-5eca-4a64-84be-41523acb1556",
   "metadata": {
    "tags": []
   },
   "source": [
    "## 定义模型架构"
   ]
  },
  {
   "cell_type": "markdown",
   "id": "5a23c8d3-6fc7-40b1-b37d-a8ae92ebc09b",
   "metadata": {},
   "source": [
    "### 双向LSTM-Attention层"
   ]
  },
  {
   "cell_type": "code",
   "execution_count": 19,
   "id": "98466358-a55c-4533-b532-60cb279e465a",
   "metadata": {},
   "outputs": [],
   "source": [
    "import torch\n",
    "\n",
    "class LSTMAttention(torch.nn.Module):\n",
    "    def __init__(self, hidden_size, classifier_dropout, num_labels=6, lstm_layers=1):\n",
    "        super(LSTMAttention, self).__init__()\n",
    "\n",
    "        # 双向LSTM\n",
    "        self.lstm = torch.nn.LSTM(input_size=hidden_size, hidden_size=hidden_size,\n",
    "                            num_layers=lstm_layers,\n",
    "                            bidirectional=True, batch_first=True)\n",
    "        \n",
    "        # 注意力机制\n",
    "        self.attention = torch.nn.Linear(hidden_size * 2, 1)\n",
    "        \n",
    "        # dropout层\n",
    "        self.dropout = nn.Dropout(classifier_dropout)\n",
    "\n",
    "        # 分类层\n",
    "        self.fc = torch.nn.Linear(hidden_size * 2, num_labels)  # 双向故乘以2\n",
    "\n",
    "    def forward(self, hidden_states, dropout):\n",
    "        # LSTM层\n",
    "        lstm_out, _ = self.lstm(hidden_states)\n",
    "\n",
    "        # 注意力机制\n",
    "        attn_weights = torch.softmax(self.attention(lstm_out), dim=1)\n",
    "        attn_output = torch.bmm(lstm_out.transpose(1, 2), attn_weights).squeeze(2)\n",
    "        # print(attn_output.shape)\n",
    "        \n",
    "        if dropout == True:\n",
    "            attn_output = self.dropout(attn_output)\n",
    "        \n",
    "        # 分类\n",
    "        out = self.fc(attn_output)\n",
    "        return out"
   ]
  },
  {
   "cell_type": "markdown",
   "id": "2d63d6dc-cf69-4718-9741-22a06dde20fe",
   "metadata": {},
   "source": [
    "### TextCNN"
   ]
  },
  {
   "cell_type": "code",
   "execution_count": 20,
   "id": "218bda8c-8677-4d29-9219-4117efd4400e",
   "metadata": {},
   "outputs": [],
   "source": [
    "import torch\n",
    "import torch.nn as nn\n",
    "from transformers import BertModel\n",
    "\n",
    "class TextCNN(nn.Module):\n",
    "    def __init__(self, hidden_size, classifier_dropout, num_labels=6, num_filters=256, filter_sizes=[2,3,4]):\n",
    "        super(TextCNN, self).__init__()\n",
    "        self.convs = nn.ModuleList(\n",
    "            [nn.Conv2d(1, num_filters, (k, hidden_size)) for k in filter_sizes]\n",
    "        )\n",
    "        self.dropout = nn.Dropout(classifier_dropout)\n",
    "        self.fc = nn.Linear(num_filters * len(filter_sizes), num_labels)\n",
    "\n",
    "    def forward(self, hidden_states, dropout):   \n",
    "        \n",
    "        x = torch.zeros_like(hidden_states[-1])\n",
    "        for tensor in hidden_states[-3:]:\n",
    "            x += tensor\n",
    "        x = x.unsqueeze(1)  # 维度：(batch_size, 1, max_length, hidden_size)\n",
    "        \n",
    "        # TextCNN层\n",
    "        x = [torch.relu(conv(x)).squeeze(3) for conv in self.convs]  # 维度：[(batch_size, num_filters, max_length-filter_size+1)] * len(filter_sizes)\n",
    "        x = [nn.functional.max_pool1d(i, i.size(2)).squeeze(2) for i in x]  # 维度：[(batch_size, num_filters)] * len(filter_sizes)\n",
    "        x = torch.cat(x, 1)  # 维度：(batch_size, num_filters * len(filter_sizes))\n",
    "\n",
    "        if dropout == True:\n",
    "            x = self.dropout(x)\n",
    "        # 分类    \n",
    "        logits = self.fc(x)\n",
    "        return logits"
   ]
  },
  {
   "cell_type": "markdown",
   "id": "5c588f90-d7a8-4358-84b1-4a315e956340",
   "metadata": {},
   "source": [
    "### 定义Bert网络结构"
   ]
  },
  {
   "cell_type": "code",
   "execution_count": 21,
   "id": "82c3d372-7da6-4f8d-b756-b261461c3da0",
   "metadata": {},
   "outputs": [],
   "source": [
    "import torch.nn.functional as F\n",
    "\n",
    "class BertClassifier(torch.nn.Module):\n",
    "    def __init__(self, vector_type='last_four_layers_first_token', classifier_dropout=0.1, num_labels=6):\n",
    "        super(BertClassifier, self).__init__()\n",
    "        self.bert = BertModel.from_pretrained('bert-base-chinese', output_hidden_states=True)  # 加载预训练的BERT模型\n",
    "        self.vector_size = self.bert.config.hidden_size  # 词向量大小\n",
    "        self.vector_type = vector_type  # 词向量类型\n",
    "        self.dropout = torch.nn.Dropout(classifier_dropout)  # Dropout层，防止过拟合，提高泛化能力\n",
    "        self.classifier = torch.nn.Linear(self.vector_size, num_labels)  # 全连接层用于分类\n",
    "        self.fc = torch.nn.Linear(4 * self.vector_size, self.vector_size)  # 四个向量的加权输入\n",
    "        self.lstm_attention = LSTMAttention(self.vector_size, classifier_dropout)  # LSTM-Attention\n",
    "        self.textcnn = TextCNN(self.vector_size, classifier_dropout)\n",
    "        \n",
    "        \n",
    "    def forward(self,\n",
    "        input_ids=None,\n",
    "        attention_mask=None,\n",
    "        token_type_ids=None,\n",
    "        dropout=True\n",
    "    ):  \n",
    "        output = self.bert(input_ids=input_ids, attention_mask=attention_mask, token_type_ids=token_type_ids)  # 经过一次BERT\n",
    "        last_hidden_state = output[0]\n",
    "        pooler_output = output[1]\n",
    "        hidden_states = output[2]\n",
    "        \n",
    "        # 构建词向量并输出\n",
    "        if self.vector_type == '3_6_9_12_layers_first_token':\n",
    "            vectors = vector1(hidden_states)\n",
    "            vectors = F.tanh(self.fc(vectors))  # 池化\n",
    "            if dropout == True:\n",
    "                vectors = self.dropout(vectors)  # 经过Dropout层\n",
    "            logits = self.classifier(vectors)  # 经过全连接层\n",
    "        elif self.vector_type == 'last_four_layers_first_token':\n",
    "            vectors = vector2(hidden_states)\n",
    "            vectors = F.tanh(self.fc(vectors))  # 池化\n",
    "            if dropout == True:\n",
    "                vectors = self.dropout(vectors)  # 经过Dropout层\n",
    "            logits = self.classifier(vectors)\n",
    "        elif self.vector_type == 'last_four_layers_first_token_max_pool':\n",
    "            vectors = vector3(hidden_states)\n",
    "            if dropout == True:\n",
    "                vectors = self.dropout(vectors)  # 经过Dropout层\n",
    "            logits = self.classifier(vectors)  # 经过全连接层\n",
    "        elif self.vector_type == 'last_layer_first_and_last_token':\n",
    "            vectors = vector4(last_hidden_state)\n",
    "            if dropout == True:\n",
    "                vectors = self.dropout(vectors)  # 经过Dropout层\n",
    "            logits = self.classifier(vectors)  # 经过全连接层\n",
    "        elif self.vector_type == 'last_four_layers_lstm':\n",
    "            x = torch.zeros_like(hidden_states[-1])\n",
    "            for tensor in hidden_states[-4:]:\n",
    "                x += tensor\n",
    "            logits = self.lstm_attention(x, dropout)\n",
    "        elif self.vector_type == 'last_layer_lstm':\n",
    "            logits = self.lstm_attention(last_hidden_state, dropout)\n",
    "        elif self.vector_type == 'last_four_layers_max_pool_lstm':\n",
    "            x = []\n",
    "            for tensor in hidden_states[-4:]:\n",
    "                x.append(tensor)\n",
    "            x = torch.max(torch.stack(x), dim=0).values\n",
    "            # print(x.shape)\n",
    "            logits = self.lstm_attention(last_hidden_state, dropout)\n",
    "        elif self.vector_type == 'textcnn':\n",
    "            logits = self.textcnn(hidden_states, dropout)\n",
    "        \n",
    "        return logits"
   ]
  },
  {
   "cell_type": "markdown",
   "id": "2c6e1c13-8f19-4b05-9e68-bdeaee1291b9",
   "metadata": {
    "tags": []
   },
   "source": [
    "## 训练模型"
   ]
  },
  {
   "cell_type": "markdown",
   "id": "3b2666ef-7fbd-4100-8dad-7590f41c82c0",
   "metadata": {},
   "source": [
    "### 模型预测"
   ]
  },
  {
   "cell_type": "code",
   "execution_count": 22,
   "id": "6a6f116f-da20-4508-b07c-c7dc2366ef70",
   "metadata": {
    "tags": []
   },
   "outputs": [],
   "source": [
    "# 模型预测\n",
    "def predict(model, encoded_data, batch_size=128):\n",
    "    # 准备数据加载器\n",
    "    dataset = TensorDataset(encoded_data['input_ids'], \n",
    "                                encoded_data['token_type_ids'], \n",
    "                                encoded_data['attention_mask'])\n",
    "    loader = DataLoader(dataset, batch_size=batch_size)\n",
    "\n",
    "    # 存储预测标签\n",
    "    predictions = []\n",
    "\n",
    "    with torch.no_grad():  # 无需计算梯度\n",
    "        for inputs_ids, token_type_ids, attention_mask in loader:\n",
    "            inputs = {'input_ids': inputs_ids, 'token_type_ids': token_type_ids, 'attention_mask': attention_mask, 'dropout': False}\n",
    "            output = model(**inputs)\n",
    "            # print(output)\n",
    "\n",
    "            # 将模型输出转换为预测结果\n",
    "            pred_labels = torch.argmax(output, dim=1)\n",
    "            # print(pred_labels)\n",
    "            predictions.extend(pred_labels.cpu().numpy())\n",
    "            \n",
    "    return predictions"
   ]
  },
  {
   "cell_type": "markdown",
   "id": "f5725cd2-0f09-4612-9925-120f0cb7cbae",
   "metadata": {},
   "source": [
    "### 对抗训练"
   ]
  },
  {
   "cell_type": "code",
   "execution_count": 23,
   "id": "50aac4b8-7dac-49d0-b9df-c670c2992bb6",
   "metadata": {},
   "outputs": [],
   "source": [
    "# Fast Gradient Method 对抗训练类\n",
    "class FGM:\n",
    "    def __init__(self, model):\n",
    "        self.model = model\n",
    "        self.backup = {}\n",
    "\n",
    "    def attack(self, epsilon=1, emb_name='embeddings'):  # 向embedding层的参数加入扰动\n",
    "        for name, param in self.model.named_parameters():\n",
    "            if param.requires_grad and emb_name in name:\n",
    "                self.backup[name] = param.data.clone()  # 保存原始参数\n",
    "                norm = torch.norm(param.grad)\n",
    "                # print(norm)\n",
    "                if norm != 0:\n",
    "                    r_at = epsilon * param.grad / norm  # 计算扰动\n",
    "                    param.data.add_(r_at)  # 添加扰动\n",
    "\n",
    "    def restore(self, emb_name='embeddings'):  # 删除扰动\n",
    "        for name, param in self.model.named_parameters():\n",
    "            if param.requires_grad and emb_name in name:\n",
    "                assert name in self.backup\n",
    "                param.data = self.backup[name]  # 恢复原始参数\n",
    "        self.backup = {}"
   ]
  },
  {
   "cell_type": "code",
   "execution_count": 24,
   "id": "036803c3-e3f1-4ff3-9eed-a5625f455aaa",
   "metadata": {
    "tags": []
   },
   "outputs": [],
   "source": [
    "# bert_model = BertClassifier()\n",
    "# for name, param in bert_model.named_parameters():\n",
    "#     print(name)\n",
    "#     if param.requires_grad and 'embeddings' in name:\n",
    "#         # print(name, param.shape)\n",
    "#         pass"
   ]
  },
  {
   "cell_type": "markdown",
   "id": "8468fe87-aba3-4176-b597-599e471d1c06",
   "metadata": {},
   "source": [
    "### R-Drop"
   ]
  },
  {
   "cell_type": "code",
   "execution_count": 25,
   "id": "bbbd9ab1-7e56-4d7c-90eb-74d57fb817df",
   "metadata": {},
   "outputs": [],
   "source": [
    "# 计算KL散度损失\n",
    "def compute_kl_loss(p, q):\n",
    "    \n",
    "    p_loss = F.kl_div(F.log_softmax(p, dim=1), F.softmax(q, dim=1), reduction='none')\n",
    "    q_loss = F.kl_div(F.log_softmax(q, dim=1), F.softmax(p, dim=1), reduction='none')\n",
    "    \n",
    "    p_loss = p_loss.mean()\n",
    "    q_loss = q_loss.mean()\n",
    "    \n",
    "    loss = 0.5 * (p_loss + q_loss)\n",
    "    \n",
    "    return loss\n",
    "\n",
    "# 计算R-Drop的损失函数\n",
    "def r_drop_loss(logits1, logits2, labels, alpha):\n",
    "    cross_entropy = torch.nn.CrossEntropyLoss()\n",
    "    # print(y_pred1)\n",
    "    loss1 = cross_entropy(logits1, labels)\n",
    "    loss2 = cross_entropy(logits2, labels)\n",
    "    ce_loss = 0.5 * (loss1 + loss2)\n",
    "    kl_loss = compute_kl_loss(logits1, logits2)# 计算KL散度损失\n",
    "    # print(loss1, kl_loss, kl_loss.shape)\n",
    "    loss =  ce_loss + alpha * kl_loss\n",
    "    # print(loss)\n",
    "    return loss"
   ]
  },
  {
   "cell_type": "markdown",
   "id": "4afa1c39-2490-4a68-b8d8-3a3ab151094f",
   "metadata": {},
   "source": [
    "### 分层学习率"
   ]
  },
  {
   "cell_type": "code",
   "execution_count": 26,
   "id": "498ae8e1-98b9-44e4-b48f-e86a95ab453e",
   "metadata": {
    "tags": []
   },
   "outputs": [],
   "source": [
    "def layer_learning_rate(model, classifier_lr=5e-5, gamma=0.95):\n",
    "    # 从分类层开始，BERT各层学习率依次按衰减系数gamma向下层递减\n",
    "    layer_lrs = [classifier_lr * (gamma ** (11 - i)) for i in range(12)]\n",
    "    # print(layer_lrs)\n",
    "    \n",
    "    param_optimizer = list(model.named_parameters())\n",
    "    optimizer_grouped_parameters = []\n",
    "\n",
    "    # 全连接层和分类层的参数\n",
    "    classifier_params = ['classifier.weight', 'classifier.bias', 'fc.weight', 'fc.bias']\n",
    "    # 无需进行正则化的参数\n",
    "    no_decay = ['bias', 'LayerNorm.bias', 'LayerNorm.weight']\n",
    "\n",
    "    for name, param in param_optimizer:\n",
    "        # print(name)\n",
    "        # 检查是哪一层\n",
    "        layer_index = None\n",
    "        for i in range(12):\n",
    "            if f'encoder.layer.{i}.' in name:\n",
    "                layer_index = i\n",
    "                break\n",
    "\n",
    "        # 为全连接层和分类层设置学习率\n",
    "        if name in classifier_params:\n",
    "            lr = classifier_lr\n",
    "        # 为BERT层设置学习率\n",
    "        elif layer_index is not None:\n",
    "            lr = layer_lrs[layer_index]\n",
    "        # 其他层采用最低学习率（embedding层）\n",
    "        else:\n",
    "            lr = min(layer_lrs)\n",
    "            # lr = 0 \n",
    "        \n",
    "        # 设置权重衰减参数\n",
    "        if any(nd in name for nd in no_decay):\n",
    "            weight_decay = 0.0\n",
    "        else:\n",
    "            weight_decay = 0.05\n",
    "        \n",
    "        param_config = {'params': [param], 'lr': lr, 'weight_decay': weight_decay}\n",
    "        \n",
    "        optimizer_grouped_parameters.append(param_config)\n",
    "    \n",
    "    return optimizer_grouped_parameters\n",
    "\n",
    "# layer_learning_rate(bert_model)"
   ]
  },
  {
   "cell_type": "markdown",
   "id": "05537e4f-026b-493c-8bb6-6f8661ef9dc6",
   "metadata": {},
   "source": [
    "### 设置随机数种子"
   ]
  },
  {
   "cell_type": "code",
   "execution_count": 27,
   "id": "75aafae0-b7fa-4a07-88e8-bb1daa35603b",
   "metadata": {},
   "outputs": [],
   "source": [
    "import random\n",
    "import os\n",
    "def seed_torch(seed):\n",
    "    random.seed(seed)\n",
    "    np.random.seed(seed)\n",
    "    os.environ['PYTHONHASHSEED'] = str(seed)\n",
    "    torch.manual_seed(seed)\n",
    "    torch.cuda.manual_seed(seed)\n",
    "    torch.backends.cudnn.deterministic = True\n",
    "    torch.backends.cudnn.benchmark = False"
   ]
  },
  {
   "cell_type": "markdown",
   "id": "ec4efada-4299-4d5a-b0cb-f8bbf51defb5",
   "metadata": {},
   "source": [
    "### 模型训练"
   ]
  },
  {
   "cell_type": "code",
   "execution_count": 28,
   "id": "3a8508e2-f41c-4352-a7a5-10588ae6ee4e",
   "metadata": {
    "tags": []
   },
   "outputs": [],
   "source": [
    "from torch.utils.data import TensorDataset, DataLoader, RandomSampler\n",
    "from sklearn.metrics import accuracy_score, precision_recall_fscore_support\n",
    "from transformers import AdamW, get_linear_schedule_with_warmup\n",
    "import numpy as np\n",
    "import matplotlib.pyplot as plt\n",
    "import math\n",
    "from torch.optim.lr_scheduler import ExponentialLR, StepLR\n",
    "\n",
    "def train(encoded_data, \n",
    "          labels, \n",
    "          batch_size, \n",
    "          vector_type, \n",
    "          classifier_dropout, \n",
    "          learning_rate, \n",
    "          epochs, \n",
    "          num_labels=6,\n",
    "          validation=False,\n",
    "          encoded_val=None,\n",
    "          val_labels=None,\n",
    "          warmup=0.1,\n",
    "          epsilon=0,\n",
    "          r_drop=False,\n",
    "          alpha=2,\n",
    "          verbose=True):\n",
    "    \n",
    "    # 准备数据加载器\n",
    "    train_dataset = TensorDataset(encoded_data['input_ids'], \n",
    "                                  encoded_data['token_type_ids'], \n",
    "                                  encoded_data['attention_mask'], \n",
    "                                  labels)\n",
    "\n",
    "    train_loader = DataLoader(train_dataset, sampler=RandomSampler(train_dataset), batch_size=batch_size)\n",
    "    \n",
    "    # 计算输出日志的时间\n",
    "    total_iterations = len(train_loader)\n",
    "    check_point = math.floor(total_iterations / 10)\n",
    "    # print(check_point)\n",
    "    \n",
    "    # 总训练步数 = 训练集大小 / 批量大小 * 总训练轮数\n",
    "    total_steps = total_iterations * epochs\n",
    "    print(f'总训练步数: {total_steps}')\n",
    "    \n",
    "    # 定义模型\n",
    "    model = BertClassifier(vector_type, classifier_dropout, num_labels)\n",
    "    model.to(device)\n",
    "\n",
    "    # 优化器与损失函数\n",
    "    # optimizer = torch.optim.AdamW(model.parameters(), lr=learning_rate)\n",
    "    optimizer = torch.optim.AdamW(layer_learning_rate(model, classifier_lr=learning_rate))  # 使用分层学习率  \n",
    "    loss_function = torch.nn.CrossEntropyLoss()  # 使用交叉熵作为损失函数\n",
    "    # 创建学习率调度器\n",
    "    scheduler = get_linear_schedule_with_warmup(optimizer, \n",
    "                                                num_warmup_steps=total_steps * warmup,  # warmup比例的步数用于预热\n",
    "                                                num_training_steps=total_steps)    \n",
    "    \n",
    "    # 对抗训练器\n",
    "    fgm = FGM(model.bert)\n",
    "\n",
    "    # 训练模型\n",
    "    loss_list = []\n",
    "    for epoch in range(epochs):  # 迭代次数\n",
    "        count = 0\n",
    "        for input_ids, token_type_ids, attention_mask, labels in train_loader:\n",
    "            inputs = {'input_ids': input_ids, 'token_type_ids': token_type_ids, 'attention_mask': attention_mask}\n",
    "            \n",
    "            if r_drop == False:  # 不使用R-Drop方法进行训练\n",
    "                # 正常训练\n",
    "                logits = model(**inputs)  # 得到模型输出\n",
    "                loss = loss_function(logits, labels.detach())\n",
    "                loss.backward()\n",
    "                    \n",
    "            else:  # R-Drop训练\n",
    "                logits1 = model(**inputs)\n",
    "                logits2 = model(**inputs)\n",
    "                loss = r_drop_loss(logits1, logits2, labels.detach(), alpha=alpha)  # 计算R_Drop的损失函数\n",
    "                loss.backward()\n",
    "            \n",
    "            # 对抗训练\n",
    "            if epsilon != 0:\n",
    "                fgm.attack(epsilon=epsilon)  # 在embedding上添加对抗扰动\n",
    "                logits_adv = model(**inputs)\n",
    "                loss_adv = loss_function(logits_adv, labels.detach())\n",
    "                loss_adv.backward()  # 对抗训练的梯度\n",
    "                fgm.restore()  # 恢复embedding参数\n",
    "            \n",
    "            optimizer.step()  # 更新模型参数\n",
    "            \n",
    "            scheduler.step()  # 更新学习率\n",
    "            optimizer.zero_grad()\n",
    "            loss_list.append(loss.cpu().detach().numpy())\n",
    "            \n",
    "            count += 1\n",
    "            if count % check_point == 0 and verbose == True:  # 打印日志信息\n",
    "                print(f\"epoch {epoch}, iterations {count}, loss: {loss}\")\n",
    "        \n",
    "        # scheduler.step()  # 更新学习率\n",
    "                \n",
    "        if validation == True:  # 查看验证集得分情况\n",
    "            val_pred = predict(model, encoded_val)\n",
    "            accuracy = accuracy_score(val_labels, val_pred)\n",
    "            print(f\"epoch {epoch}, val_acc: {accuracy}\")\n",
    "                    \n",
    "    if verbose == True:\n",
    "        # 绘制损失曲线\n",
    "        plt.xlabel('iterations')\n",
    "        plt.ylabel('loss')\n",
    "        plt.plot(range(total_steps), loss_list)\n",
    "        plt.show()\n",
    "\n",
    "        # 绘制平滑处理后的损失曲线\n",
    "        avg_loss_list = []\n",
    "        avg_size = 15\n",
    "        for i in range(total_steps - avg_size + 1):\n",
    "            avg_loss_list.append(np.mean(loss_list[i : i + avg_size]))\n",
    "        plt.xlabel('iterations')\n",
    "        plt.ylabel('loss')\n",
    "        plt.plot(range(total_steps - avg_size + 1), avg_loss_list)\n",
    "        plt.show()\n",
    "    \n",
    "    return model"
   ]
  },
  {
   "cell_type": "code",
   "execution_count": 31,
   "id": "93b51fa2-c850-4dde-8ad1-28e523326380",
   "metadata": {
    "tags": []
   },
   "outputs": [
    {
     "name": "stdout",
     "output_type": "stream",
     "text": [
      "总训练步数: 846\n",
      "epoch 0, iterations 28, loss: 1.7586778402328491\n",
      "epoch 0, iterations 56, loss: 0.823482871055603\n",
      "epoch 0, iterations 84, loss: 0.6266524791717529\n",
      "epoch 0, iterations 112, loss: 0.505796492099762\n",
      "epoch 0, iterations 140, loss: 0.5947086811065674\n",
      "epoch 0, iterations 168, loss: 0.362360417842865\n",
      "epoch 0, iterations 196, loss: 0.4802160859107971\n",
      "epoch 0, iterations 224, loss: 0.48953890800476074\n",
      "epoch 0, iterations 252, loss: 0.5918397307395935\n",
      "epoch 0, iterations 280, loss: 0.5975985527038574\n",
      "epoch 0, val_acc: 0.771\n",
      "epoch 1, iterations 28, loss: 0.43608081340789795\n",
      "epoch 1, iterations 56, loss: 0.46932104229927063\n",
      "epoch 1, iterations 84, loss: 0.39758121967315674\n",
      "epoch 1, iterations 112, loss: 0.38639432191848755\n",
      "epoch 1, iterations 140, loss: 0.2481880784034729\n",
      "epoch 1, iterations 168, loss: 0.41337746381759644\n",
      "epoch 1, iterations 196, loss: 0.2817205488681793\n",
      "epoch 1, iterations 224, loss: 0.2583014965057373\n",
      "epoch 1, iterations 252, loss: 0.363394170999527\n",
      "epoch 1, iterations 280, loss: 0.7106068730354309\n",
      "epoch 1, val_acc: 0.774\n",
      "epoch 2, iterations 28, loss: 0.3335970938205719\n",
      "epoch 2, iterations 56, loss: 0.3628539443016052\n",
      "epoch 2, iterations 84, loss: 0.24776791036128998\n",
      "epoch 2, iterations 112, loss: 0.45140916109085083\n",
      "epoch 2, iterations 140, loss: 0.2277747094631195\n",
      "epoch 2, iterations 168, loss: 0.41905051469802856\n",
      "epoch 2, iterations 196, loss: 0.22072935104370117\n",
      "epoch 2, iterations 224, loss: 0.09201920032501221\n",
      "epoch 2, iterations 252, loss: 0.22616715729236603\n",
      "epoch 2, iterations 280, loss: 0.1710737645626068\n",
      "epoch 2, val_acc: 0.7845\n"
     ]
    },
    {
     "data": {
      "image/png": "[encoded data removed]",
      "text/plain": [
       "<Figure size 640x480 with 1 Axes>"
      ]
     },
     "metadata": {},
     "output_type": "display_data"
    },
    {
     "data": {
      "image/png": "[encoded data removed]",
      "text/plain": [
       "<Figure size 640x480 with 1 Axes>"
      ]
     },
     "metadata": {},
     "output_type": "display_data"
    }
   ],
   "source": [
    "# 超参数\n",
    "batch_size = 32  # 批处理大小\n",
    "epochs = 3  # 训练次数\n",
    "# vector_type = 'last_four_layers_first_token_max_pool'  # 向量表示类型\n",
    "vector_type = 'textcnn'  # 向量表示类型\n",
    "classifier_dropout = 0.5  # dropout层参数\n",
    "learning_rate = 3e-5  # 学习率\n",
    "warmup = 0.05  # 学习率预热步数的比例\n",
    "epsilon = 0.2  # 对抗训练因子\n",
    "r_drop = False  # 是否启用R-Drop方法\n",
    "alpha = 4  # R-Drop参数\n",
    "verbose = True  # 是否打印日志\n",
    "validation = True  # 是否在验证集上进行验证\n",
    " \n",
    "# 设置随机数种子\n",
    "seed_torch(6666)\n",
    "\n",
    "model = train(encoded_data=encoded_train,\n",
    "              labels=torch.tensor(train_labels).to(device),\n",
    "              batch_size=batch_size,\n",
    "              vector_type=vector_type,\n",
    "              classifier_dropout=classifier_dropout,\n",
    "              learning_rate=learning_rate,\n",
    "              epochs=epochs,\n",
    "              warmup=warmup,\n",
    "              encoded_val=encoded_dev,\n",
    "              val_labels=dev_labels,\n",
    "              epsilon=epsilon,\n",
    "              r_drop=r_drop,\n",
    "              alpha=alpha,\n",
    "              verbose=verbose,\n",
    "              validation=validation)"
   ]
  },
  {
   "cell_type": "markdown",
   "id": "4f305f3e-c7a6-494e-bd15-139c3797083b",
   "metadata": {},
   "source": [
    "## 评估模型"
   ]
  },
  {
   "cell_type": "code",
   "execution_count": 32,
   "id": "6826ef45-2a49-4c0a-b654-108ab8c35705",
   "metadata": {
    "tags": []
   },
   "outputs": [
    {
     "name": "stdout",
     "output_type": "stream",
     "text": [
      "0.7845\n"
     ]
    }
   ],
   "source": [
    "# accuracy_list = []\n",
    "# for i in range(5):\n",
    "#     predictions = predict(model, encoded_dev)\n",
    "#     accuracy = accuracy_score(dev_labels, predictions)\n",
    "#     accuracy_list.append(accuracy)\n",
    "\n",
    "# print(f'accuracy_list: {accuracy_list}')\n",
    "# print(f'avg_accuracy: {np.mean(accuracy_list)}')\n",
    "predictions = predict(model, encoded_dev)\n",
    "print(accuracy_score(dev_labels, predictions))"
   ]
  },
  {
   "cell_type": "markdown",
   "id": "e2df9b6b-8c6c-4e3f-9d76-5bedf7da9093",
   "metadata": {
    "tags": []
   },
   "source": [
    "### 交叉验证"
   ]
  },
  {
   "cell_type": "code",
   "execution_count": 33,
   "id": "19ef99db-ddd1-4bdd-b801-ec069c91b942",
   "metadata": {},
   "outputs": [],
   "source": [
    "from sklearn.model_selection import KFold, StratifiedKFold\n",
    "\n",
    "# 进行K折交叉验证进行模型评估\n",
    "def cross_validation(k, all_data, all_labels):\n",
    "    kf = KFold(n_splits=k, shuffle=True, random_state = 42)\n",
    "    \n",
    "    accuracy_list = []\n",
    "    for train_index, valid_index in kf.split(all_labels):\n",
    "        # print(train_index)\n",
    "        train_data, val_data = [all_data[i] for i in train_index], [all_data[i] for i in valid_index]\n",
    "        train_labels, val_labels = [all_labels[i] for i in train_index], [all_labels[i] for i in valid_index]\n",
    "\n",
    "        encoded_train = tokenize(train_data)\n",
    "        encoded_val = tokenize(val_data)\n",
    "        \n",
    "        model = train(encoded_data=encoded_train,\n",
    "                      labels=torch.tensor(train_labels).to(device),\n",
    "                      batch_size=batch_size,\n",
    "                      vector_type=vector_type,\n",
    "                      classifier_dropout=classifier_dropout,\n",
    "                      learning_rate=learning_rate,\n",
    "                      epochs=epochs,\n",
    "                      warmup=warmup,\n",
    "                      encoded_val=encoded_val,\n",
    "                      val_labels=val_labels,\n",
    "                      epsilon=epsilon,\n",
    "                      r_drop=r_drop,\n",
    "                      alpha=alpha,\n",
    "                      verbose=False,\n",
    "                      validation=True)\n",
    "        \n",
    "        predictions = predict(model, encoded_val)\n",
    "        accuracy_list.append(accuracy_score(val_labels, predictions))\n",
    "        \n",
    "    print(f'accuracy_list: {accuracy_list}')\n",
    "    print(f'avg_accuracy: {np.mean(accuracy_list)}')"
   ]
  },
  {
   "cell_type": "code",
   "execution_count": 34,
   "id": "001dbd95-cda4-4c94-8d69-8a1b1500b388",
   "metadata": {
    "tags": []
   },
   "outputs": [
    {
     "name": "stdout",
     "output_type": "stream",
     "text": [
      "总训练步数: 825\n",
      "epoch 0, val_acc: 0.8336363636363636\n",
      "epoch 1, val_acc: 0.84\n",
      "epoch 2, val_acc: 0.8454545454545455\n",
      "总训练步数: 825\n",
      "epoch 0, val_acc: 0.8427272727272728\n",
      "epoch 1, val_acc: 0.8490909090909091\n",
      "epoch 2, val_acc: 0.8527272727272728\n",
      "总训练步数: 825\n",
      "epoch 0, val_acc: 0.8218181818181818\n",
      "epoch 1, val_acc: 0.8354545454545454\n",
      "epoch 2, val_acc: 0.8381818181818181\n",
      "总训练步数: 825\n",
      "epoch 0, val_acc: 0.8359090909090909\n",
      "epoch 1, val_acc: 0.850909090909091\n",
      "epoch 2, val_acc: 0.8513636363636363\n",
      "总训练步数: 825\n",
      "epoch 0, val_acc: 0.8240909090909091\n",
      "epoch 1, val_acc: 0.8413636363636363\n",
      "epoch 2, val_acc: 0.8377272727272728\n",
      "accuracy_list: [0.8454545454545455, 0.8527272727272728, 0.8381818181818181, 0.8513636363636363, 0.8377272727272728]\n",
      "avg_accuracy: 0.8450909090909091\n"
     ]
    }
   ],
   "source": [
    "# 合并数据集\n",
    "all_data = train_data + dev_data\n",
    "all_labels = train_labels + dev_labels\n",
    "\n",
    "k = 5  # 交叉验证折数\n",
    "\n",
    "# 设置随机数种子\n",
    "torch.manual_seed(42)\n",
    "    \n",
    "# 超参数\n",
    "batch_size = 32     \n",
    "epochs = 3\n",
    "vector_type = 'textcnn' \n",
    "classifier_dropout = 0.5\n",
    "learning_rate = 3e-5\n",
    "warmup = 0.1\n",
    "epsilon = 0.2\n",
    "r_drop = False\n",
    "alpha = 2\n",
    "\n",
    "cross_validation(k, all_data, all_labels)"
   ]
  },
  {
   "cell_type": "markdown",
   "id": "874cde85-721d-477e-b203-ec1b1fe943ff",
   "metadata": {},
   "source": [
    "## 完整数据集训练模型"
   ]
  },
  {
   "cell_type": "markdown",
   "id": "257af172-2b30-4ccf-b5bb-b2d7083c5181",
   "metadata": {},
   "source": [
    "### 使用R-Drop"
   ]
  },
  {
   "cell_type": "code",
   "execution_count": 35,
   "id": "8da61373-55a4-4cac-ab7a-afb749065b92",
   "metadata": {
    "tags": []
   },
   "outputs": [
    {
     "name": "stdout",
     "output_type": "stream",
     "text": [
      "总训练步数: 1032\n",
      "epoch 0, iterations 34, loss: 1.283595085144043\n",
      "epoch 0, iterations 68, loss: 0.9393514394760132\n",
      "epoch 0, iterations 102, loss: 0.7079979181289673\n",
      "epoch 0, iterations 136, loss: 0.5774810314178467\n",
      "epoch 0, iterations 170, loss: 0.4480971395969391\n",
      "epoch 0, iterations 204, loss: 0.40778738260269165\n",
      "epoch 0, iterations 238, loss: 0.7936081290245056\n",
      "epoch 0, iterations 272, loss: 0.4847557246685028\n",
      "epoch 0, iterations 306, loss: 0.6038099527359009\n",
      "epoch 0, iterations 340, loss: 0.4076443016529083\n",
      "epoch 1, iterations 34, loss: 0.2698191702365875\n",
      "epoch 1, iterations 68, loss: 0.29939621686935425\n",
      "epoch 1, iterations 102, loss: 0.35978999733924866\n",
      "epoch 1, iterations 136, loss: 0.46161654591560364\n",
      "epoch 1, iterations 170, loss: 0.2730812728404999\n",
      "epoch 1, iterations 204, loss: 0.23028050363063812\n",
      "epoch 1, iterations 238, loss: 0.2623343765735626\n",
      "epoch 1, iterations 272, loss: 0.5938357710838318\n",
      "epoch 1, iterations 306, loss: 0.21254053711891174\n",
      "epoch 1, iterations 340, loss: 0.2585393190383911\n",
      "epoch 2, iterations 34, loss: 0.42836135625839233\n",
      "epoch 2, iterations 68, loss: 0.13241268694400787\n",
      "epoch 2, iterations 102, loss: 0.0792311429977417\n",
      "epoch 2, iterations 136, loss: 0.1424434334039688\n",
      "epoch 2, iterations 170, loss: 0.26281750202178955\n",
      "epoch 2, iterations 204, loss: 0.1938859522342682\n",
      "epoch 2, iterations 238, loss: 0.21553534269332886\n",
      "epoch 2, iterations 272, loss: 0.3073645532131195\n",
      "epoch 2, iterations 306, loss: 0.15391013026237488\n",
      "epoch 2, iterations 340, loss: 0.05257963016629219\n"
     ]
    },
    {
     "data": {
      "image/png": "[encoded data removed]",
      "text/plain": [
       "<Figure size 640x480 with 1 Axes>"
      ]
     },
     "metadata": {},
     "output_type": "display_data"
    },
    {
     "data": {
      "image/png": "[encoded data removed]",
      "text/plain": [
       "<Figure size 640x480 with 1 Axes>"
      ]
     },
     "metadata": {},
     "output_type": "display_data"
    }
   ],
   "source": [
    "encoded_all = tokenize(all_data)\n",
    "\n",
    "# 超参数\n",
    "batch_size = 32\n",
    "epochs = 3\n",
    "vector_type = 'last_layer_lstm'\n",
    "classifier_dropout = 0.1\n",
    "learning_rate = 5e-5\n",
    "warmup = 0.05\n",
    "r_drop = False\n",
    "alpha = 4\n",
    "\n",
    "# 设置随机数种子\n",
    "torch.manual_seed(41)\n",
    "\n",
    "model = train(encoded_data=encoded_all,\n",
    "              labels=torch.tensor(all_labels).to(device),\n",
    "              batch_size=batch_size,\n",
    "              vector_type=vector_type,\n",
    "              classifier_dropout=classifier_dropout,\n",
    "              learning_rate=learning_rate,\n",
    "              epochs=epochs,\n",
    "              r_drop=r_drop,\n",
    "              alpha=alpha)"
   ]
  },
  {
   "cell_type": "markdown",
   "id": "07ed86eb-1885-4d6f-852e-b43518a9f4a3",
   "metadata": {},
   "source": [
    "### 使用FGM对抗训练方法"
   ]
  },
  {
   "cell_type": "code",
   "execution_count": 36,
   "id": "6a751447-1a5f-410e-ae0d-109ccee29b51",
   "metadata": {
    "tags": []
   },
   "outputs": [
    {
     "name": "stdout",
     "output_type": "stream",
     "text": [
      "总训练步数: 1032\n",
      "epoch 0, iterations 34, loss: 0.8635455965995789\n",
      "epoch 0, iterations 68, loss: 0.9795100092887878\n",
      "epoch 0, iterations 102, loss: 0.703123927116394\n",
      "epoch 0, iterations 136, loss: 0.6246747970581055\n",
      "epoch 0, iterations 170, loss: 0.5166998505592346\n",
      "epoch 0, iterations 204, loss: 0.399625301361084\n",
      "epoch 0, iterations 238, loss: 0.7876058220863342\n",
      "epoch 0, iterations 272, loss: 0.4877731204032898\n",
      "epoch 0, iterations 306, loss: 0.5631750822067261\n",
      "epoch 0, iterations 340, loss: 0.3751141130924225\n",
      "epoch 1, iterations 34, loss: 0.21212568879127502\n",
      "epoch 1, iterations 68, loss: 0.22005155682563782\n",
      "epoch 1, iterations 102, loss: 0.3735394775867462\n",
      "epoch 1, iterations 136, loss: 0.4805293381214142\n",
      "epoch 1, iterations 170, loss: 0.2919315695762634\n",
      "epoch 1, iterations 204, loss: 0.2175663560628891\n",
      "epoch 1, iterations 238, loss: 0.3002605736255646\n",
      "epoch 1, iterations 272, loss: 0.48191845417022705\n",
      "epoch 1, iterations 306, loss: 0.24445852637290955\n",
      "epoch 1, iterations 340, loss: 0.24255897104740143\n",
      "epoch 2, iterations 34, loss: 0.38885200023651123\n",
      "epoch 2, iterations 68, loss: 0.14265860617160797\n",
      "epoch 2, iterations 102, loss: 0.11996433138847351\n",
      "epoch 2, iterations 136, loss: 0.2042936235666275\n",
      "epoch 2, iterations 170, loss: 0.2825208902359009\n",
      "epoch 2, iterations 204, loss: 0.22525714337825775\n",
      "epoch 2, iterations 238, loss: 0.2502593696117401\n",
      "epoch 2, iterations 272, loss: 0.2819060981273651\n",
      "epoch 2, iterations 306, loss: 0.23408634960651398\n",
      "epoch 2, iterations 340, loss: 0.08776955306529999\n"
     ]
    },
    {
     "data": {
      "image/png": "[encoded data removed]",
      "text/plain": [
       "<Figure size 640x480 with 1 Axes>"
      ]
     },
     "metadata": {},
     "output_type": "display_data"
    },
    {
     "data": {
      "image/png": "[encoded data removed]",
      "text/plain": [
       "<Figure size 640x480 with 1 Axes>"
      ]
     },
     "metadata": {},
     "output_type": "display_data"
    }
   ],
   "source": [
    "all_data = train_data + dev_data\n",
    "all_labels = train_labels + dev_labels\n",
    "encoded_all = tokenize(all_data)\n",
    "\n",
    "# 超参数\n",
    "num_labels = 6\n",
    "batch_size = 32\n",
    "epochs = 3\n",
    "vector_type = 'last_four_layers_first_token_max_pool'\n",
    "classifier_dropout = 0\n",
    "learning_rate = 5e-5\n",
    "warmup = 0.05\n",
    "epsilon = 0.2\n",
    "r_drop = False\n",
    "\n",
    "# 设置随机数种子\n",
    "torch.manual_seed(41)\n",
    "\n",
    "model = train(encoded_data=encoded_all,\n",
    "              labels=torch.tensor(all_labels).to(device),\n",
    "              batch_size=batch_size,\n",
    "              vector_type=vector_type,\n",
    "              classifier_dropout=classifier_dropout,\n",
    "              learning_rate=learning_rate,\n",
    "              epochs=epochs,\n",
    "              warmup=warmup,\n",
    "              r_drop=r_drop,\n",
    "              epsilon=epsilon)"
   ]
  },
  {
   "cell_type": "markdown",
   "id": "036feb37-9c9a-4909-a54c-15774388d069",
   "metadata": {},
   "source": [
    "## 保存模型"
   ]
  },
  {
   "cell_type": "code",
   "execution_count": 37,
   "id": "279bf1f5-73cd-4bc2-b5cb-ce744b835231",
   "metadata": {},
   "outputs": [],
   "source": [
    "torch.save(model, 'model/bert_model_8.pth')"
   ]
  },
  {
   "cell_type": "markdown",
   "id": "99441dd7-8f78-4403-8d22-50fbff5025f7",
   "metadata": {
    "toc-hr-collapsed": true
   },
   "source": [
    "## 测试集预测"
   ]
  },
  {
   "cell_type": "code",
   "execution_count": 29,
   "id": "cb915422-2f80-4579-a2d1-58e67e8d5348",
   "metadata": {},
   "outputs": [],
   "source": [
    "def submit(predictions):\n",
    "    question = pd.read_csv('data/test.txt', delimiter='\\t', header=None, names=['question', 'label'])['question'].tolist()\n",
    "    # 生成提交文件\n",
    "    submission_df = pd.DataFrame({'question': question, 'label': predictions})\n",
    "    submission_df.to_csv('result/submission.txt', sep='\\t', index=False, header=False)"
   ]
  },
  {
   "cell_type": "code",
   "execution_count": 39,
   "id": "974deb6c-7c80-400b-8541-43f7d13ea326",
   "metadata": {},
   "outputs": [],
   "source": [
    "    \n",
    "test_predictions = predict(model, encoded_test)\n",
    "submit(test_predictions)"
   ]
  },
  {
   "cell_type": "markdown",
   "id": "28dff113-b8e1-45c7-a244-76cc833538f3",
   "metadata": {},
   "source": [
    "## 模型集成"
   ]
  },
  {
   "cell_type": "markdown",
   "id": "b1fd115b-2d8c-4b22-bc73-dcfa95c31577",
   "metadata": {},
   "source": [
    "### Averaging集成"
   ]
  },
  {
   "cell_type": "code",
   "execution_count": 40,
   "id": "74df0d59-7f3f-4c98-902c-2d714da4815a",
   "metadata": {},
   "outputs": [],
   "source": [
    "def averaging(model_list, model_weight):\n",
    "    # 准备数据加载器\n",
    "    batch_size = 128\n",
    "    dataset = TensorDataset(encoded_test['input_ids'], \n",
    "                            encoded_test['token_type_ids'], \n",
    "                            encoded_test['attention_mask'])\n",
    "    loader = DataLoader(dataset, batch_size=batch_size)\n",
    "\n",
    "    # 存储预测标签\n",
    "    predictions = []\n",
    "\n",
    "    with torch.no_grad():  # 无需计算梯度\n",
    "        for inputs_ids, token_type_ids, attention_mask in loader:\n",
    "            inputs = {'input_ids': inputs_ids, 'token_type_ids': token_type_ids, 'attention_mask': attention_mask, 'dropout': False}\n",
    "            # 将各模型预测结果相加\n",
    "            pred_vec = torch.zeros([inputs_ids.shape[0], 6]).to(device)\n",
    "            for model, weight in zip(model_list, model_weight):\n",
    "                output = model(**inputs)\n",
    "                pred_vec += output * weight\n",
    "            # 转换为预测结果\n",
    "            pred_labels = torch.argmax(pred_vec, dim=1)\n",
    "            # print(pred_labels)\n",
    "            predictions.extend(pred_labels.cpu().numpy())\n",
    "            \n",
    "    return predictions"
   ]
  },
  {
   "cell_type": "code",
   "execution_count": 48,
   "id": "5901c137-3090-49d9-9683-14ec1b33e521",
   "metadata": {
    "tags": []
   },
   "outputs": [],
   "source": [
    "# 加载模型\n",
    "# model1 = torch.load('model/bert_model.pth')    # 78.70  单层drop  连接\n",
    "# model2 = torch.load('model/bert_model_2.pth')  # 78.90  对抗训练  连接\n",
    "model3 = torch.load('model/bert_model_3.pth')  # 79.40  对抗训练  最大池化\n",
    "model4 = torch.load('model/bert_model_4.pth')  # 79.30  R-Drop   连接\n",
    "model5 = torch.load('model/bert_model_5.pth')  # 79.45  对抗训练  LSTM-Attention\n",
    "model6 = torch.load('model/bert_model_6.pth')  # 79.70  对抗训练  TextCNN\n",
    "# model7 = torch.load('model/bert_model_7.pth')  # 79.70  对抗训练  TextCNN\n",
    "\n",
    "model_list = [model3, model5, model6]  # 模型列表\n",
    "model_weight = [1.0, 1.1, 1.08]  # 模型权重\n",
    "\n",
    "combined_predictions = averaging(model_list, model_weight)\n",
    "submit(combined_predictions) "
   ]
  },
  {
   "cell_type": "markdown",
   "id": "0bf805a6-bd76-42a7-85fb-63f3dabbb0e9",
   "metadata": {},
   "source": [
    "### Voting集成"
   ]
  },
  {
   "cell_type": "code",
   "execution_count": 49,
   "id": "5e3dd10c-d632-45a7-a9c2-efa382853fce",
   "metadata": {},
   "outputs": [],
   "source": [
    "from scipy.stats import mode\n",
    "def voting(prediction_tuple):\n",
    "    # 将数组堆叠起来\n",
    "    stacked_arrays = np.vstack(prediction_tuple)\n",
    "\n",
    "    # 使用投票法进行融合\n",
    "    # mode() 函数返回最频繁出现的元素及其出现次数\n",
    "    combined_predictions = mode(stacked_arrays, axis=0).mode\n",
    "    \n",
    "    return combined_predictions"
   ]
  },
  {
   "cell_type": "code",
   "execution_count": 50,
   "id": "83eb05a3-7318-41d8-8589-ca158b6860da",
   "metadata": {},
   "outputs": [],
   "source": [
    "predictions1 = predict(model6, encoded_test)\n",
    "predictions2 = predict(model5, encoded_test)\n",
    "predictions3 = predict(model4, encoded_test)\n",
    "prediction_tuple = predictions1, predictions2, predictions3\n",
    "combined_predictions = voting(prediction_tuple)"
   ]
  },
  {
   "cell_type": "code",
   "execution_count": 51,
   "id": "2c697292-fb26-4c6a-8754-e24c88769f37",
   "metadata": {},
   "outputs": [],
   "source": [
    "submit(combined_predictions)"
   ]
  },
  {
   "cell_type": "markdown",
   "id": "cc1f93e3-4415-43c1-ad9d-19a9766bbc5a",
   "metadata": {},
   "source": [
    "### Stacking集成"
   ]
  },
  {
   "cell_type": "code",
   "execution_count": 30,
   "id": "625c665f-08f6-40b3-8b11-31b818f0ffdb",
   "metadata": {},
   "outputs": [],
   "source": [
    "from sklearn.model_selection import KFold\n",
    "\n",
    "def get_logits(model, encoded_data, batch_size=1024):  # 获取模型输出\n",
    "    # 准备数据加载器\n",
    "    dataset = TensorDataset(encoded_data['input_ids'], \n",
    "                            encoded_data['token_type_ids'], \n",
    "                            encoded_data['attention_mask'])\n",
    "    loader = DataLoader(dataset, batch_size=batch_size)\n",
    "\n",
    "    # 存储模型输出\n",
    "    logits = []\n",
    "\n",
    "    with torch.no_grad():  # 无需计算梯度\n",
    "        for inputs_ids, token_type_ids, attention_mask in loader:\n",
    "            inputs = {'input_ids': inputs_ids, 'token_type_ids': token_type_ids, 'attention_mask': attention_mask, 'dropout': False}\n",
    "            output = model(**inputs)\n",
    "            logits.extend(output.cpu().numpy())\n",
    "            \n",
    "    return np.array(logits)"
   ]
  },
  {
   "cell_type": "markdown",
   "id": "e6d71d85-8261-4b50-b76d-764a76af208b",
   "metadata": {},
   "source": [
    "#### 第一层训练"
   ]
  },
  {
   "cell_type": "code",
   "execution_count": 31,
   "id": "590a97d0-c7b0-488c-a4f7-efe856911648",
   "metadata": {},
   "outputs": [],
   "source": [
    "# stacking第一层训练：训练基学习器得到元学习器的训练集和测试集的输入\n",
    "def stacking_base_train(kf, model_param, encoded_all, all_labels, encoded_test):\n",
    "    val_output = [[] for _ in range(len(all_labels))]  # 存储单个基模型对训练集的预测\n",
    "    test_output = []  # 存储单个基模型对测试集的预测\n",
    "    # 对单个基模型进行k折交叉验证的训练\n",
    "    for train_index, valid_index in kf.split(all_labels, all_labels):\n",
    "        encoded_train = {'input_ids': torch.index_select(encoded_all['input_ids'], 0, torch.tensor(train_index).to(device)),\n",
    "                         'token_type_ids': torch.index_select(encoded_all['token_type_ids'], 0, torch.tensor(train_index).to(device)),\n",
    "                         'attention_mask': torch.index_select(encoded_all['attention_mask'], 0, torch.tensor(train_index).to(device))}\n",
    "        encoded_val = {'input_ids': torch.index_select(encoded_all['input_ids'], 0, torch.tensor(valid_index).to(device)),\n",
    "                         'token_type_ids': torch.index_select(encoded_all['token_type_ids'], 0, torch.tensor(valid_index).to(device)),\n",
    "                         'attention_mask': torch.index_select(encoded_all['attention_mask'], 0, torch.tensor(valid_index).to(device))}\n",
    "        train_labels, val_labels = [all_labels[i] for i in train_index], [all_labels[i] for i in valid_index]\n",
    "\n",
    "        model_param['encoded_data'] = encoded_train\n",
    "        model_param['labels'] = torch.tensor(train_labels).to(device)\n",
    "        model_param['encoded_val'] = encoded_val\n",
    "        model_param['val_labels'] = val_labels\n",
    "\n",
    "        model = train(**model_param)\n",
    "\n",
    "        logits_val = get_logits(model, encoded_val) # 单模型对这一折的验证集的预测输出\n",
    "        for i, val_i in enumerate(valid_index):\n",
    "            val_output[val_i] = logits_val[i]\n",
    "        logits_test = get_logits(model, encoded_test)  # 单模型对测试集的预测输出\n",
    "        test_output.append(logits_test)\n",
    "        \n",
    "    val_output = np.array(val_output)\n",
    "    test_output = np.mean(test_output, axis=0)  # averaging得到测试集的预测输出\n",
    "        \n",
    "    return val_output, test_output"
   ]
  },
  {
   "cell_type": "code",
   "execution_count": 32,
   "id": "62bd3060-b0df-4741-8ad2-814a2137408a",
   "metadata": {
    "tags": []
   },
   "outputs": [
    {
     "name": "stdout",
     "output_type": "stream",
     "text": [
      "Model1: \n",
      "总训练步数: 550\n",
      "epoch 0, val_acc: 0.8331818181818181\n",
      "epoch 1, val_acc: 0.8404545454545455\n",
      "总训练步数: 550\n",
      "epoch 0, val_acc: 0.8436363636363636\n",
      "epoch 1, val_acc: 0.8518181818181818\n",
      "总训练步数: 550\n",
      "epoch 0, val_acc: 0.8281818181818181\n",
      "epoch 1, val_acc: 0.8427272727272728\n",
      "总训练步数: 550\n",
      "epoch 0, val_acc: 0.8377272727272728\n",
      "epoch 1, val_acc: 0.8495454545454545\n",
      "总训练步数: 550\n",
      "epoch 0, val_acc: 0.8363636363636363\n",
      "epoch 1, val_acc: 0.845\n",
      "Model2: \n",
      "总训练步数: 825\n",
      "epoch 0, val_acc: 0.835\n",
      "epoch 1, val_acc: 0.8459090909090909\n",
      "epoch 2, val_acc: 0.8536363636363636\n",
      "总训练步数: 825\n",
      "epoch 0, val_acc: 0.8377272727272728\n",
      "epoch 1, val_acc: 0.8518181818181818\n",
      "epoch 2, val_acc: 0.850909090909091\n",
      "总训练步数: 825\n",
      "epoch 0, val_acc: 0.8372727272727273\n",
      "epoch 1, val_acc: 0.8395454545454546\n",
      "epoch 2, val_acc: 0.8431818181818181\n",
      "总训练步数: 825\n",
      "epoch 0, val_acc: 0.8372727272727273\n",
      "epoch 1, val_acc: 0.8481818181818181\n",
      "epoch 2, val_acc: 0.8522727272727273\n",
      "总训练步数: 825\n",
      "epoch 0, val_acc: 0.8318181818181818\n",
      "epoch 1, val_acc: 0.8377272727272728\n",
      "epoch 2, val_acc: 0.8440909090909091\n",
      "Model3: \n",
      "总训练步数: 825\n",
      "epoch 0, val_acc: 0.8259090909090909\n",
      "epoch 1, val_acc: 0.8368181818181818\n",
      "epoch 2, val_acc: 0.8427272727272728\n",
      "总训练步数: 825\n",
      "epoch 0, val_acc: 0.8254545454545454\n",
      "epoch 1, val_acc: 0.8440909090909091\n",
      "epoch 2, val_acc: 0.8472727272727273\n",
      "总训练步数: 825\n",
      "epoch 0, val_acc: 0.8163636363636364\n",
      "epoch 1, val_acc: 0.8381818181818181\n",
      "epoch 2, val_acc: 0.8422727272727273\n",
      "总训练步数: 825\n",
      "epoch 0, val_acc: 0.8304545454545454\n",
      "epoch 1, val_acc: 0.8459090909090909\n",
      "epoch 2, val_acc: 0.8504545454545455\n",
      "总训练步数: 825\n",
      "epoch 0, val_acc: 0.8063636363636364\n",
      "epoch 1, val_acc: 0.8359090909090909\n",
      "epoch 2, val_acc: 0.84\n"
     ]
    }
   ],
   "source": [
    "from sklearn.model_selection import KFold, StratifiedKFold\n",
    "# 合并数据集\n",
    "all_data = train_data + dev_data\n",
    "all_labels = train_labels + dev_labels\n",
    "# all_data = aeda_train_data + aeda_dev_data\n",
    "# all_labels = aeda_train_labels + aeda_dev_labels\n",
    "\n",
    "encoded_all = tokenize(all_data)\n",
    "\n",
    "base_model_params = [    # 基模型参数列表\n",
    "                        {\n",
    "                            'batch_size': 32,\n",
    "                            'epochs': 2,\n",
    "                            'vector_type': 'last_four_layers_lstm',\n",
    "                            'classifier_dropout': 0.2,\n",
    "                            'learning_rate': 3e-5,\n",
    "                            'warmup': 0.1,\n",
    "                            'epsilon': 0.2,\n",
    "                            'r_drop': False,\n",
    "                            'verbose': False,\n",
    "                            'validation': True\n",
    "                         },\n",
    "                         {\n",
    "                            'batch_size': 32,\n",
    "                            'epochs': 3,\n",
    "                            'vector_type': 'last_layer_lstm',\n",
    "                            'classifier_dropout': 0.2,\n",
    "                            'learning_rate': 3e-5,\n",
    "                            'warmup': 0.1,\n",
    "                            'epsilon': 0.2,\n",
    "                            'r_drop': False,\n",
    "                            # 'alpha': 2,\n",
    "                            'verbose': False,\n",
    "                            'validation': True\n",
    "                         },\n",
    "                         {\n",
    "                            'batch_size': 32,\n",
    "                            'epochs': 3,\n",
    "                            'vector_type': 'textcnn',\n",
    "                            'classifier_dropout': 0.5,\n",
    "                            'learning_rate': 3e-5,\n",
    "                            'warmup': 0.1,\n",
    "                            'epsilon': 0.2,\n",
    "                            'r_drop': False,\n",
    "                            'verbose': False,\n",
    "                            'validation': True\n",
    "                         },\n",
    "                         # {\n",
    "                         #    'batch_size': 32,\n",
    "                         #    'epochs': 3,\n",
    "                         #    'vector_type': '3_6_9_12_layers_first_token',\n",
    "                         #    'classifier_dropout': 0.2,\n",
    "                         #    'learning_rate': 5e-5,\n",
    "                         #    'lr_gamma': 0.2,\n",
    "                         #    'epsilon': 0,\n",
    "                         #    'r_drop': True,\n",
    "                         #    'alpha': 2,\n",
    "                         #    'verbose': False,\n",
    "                         #    'validation': True\n",
    "                         # },\n",
    "                    ]\n",
    "\n",
    "# 设置随机数种子\n",
    "torch.manual_seed(42)\n",
    "\n",
    "kf = KFold(n_splits=5, shuffle=True, random_state=42)\n",
    "\n",
    "base_model_train = []  # 存储所有基模型对训练集的预测 \n",
    "base_model_test = []   # 存储所有基模型对测试集的预测\n",
    "for i, model_param in enumerate(base_model_params):\n",
    "    print(f'Model{i+1}: ')\n",
    "    val_output, test_output = stacking_base_train(kf, model_param, encoded_all, all_labels, encoded_test)\n",
    "    base_model_train.append(val_output)\n",
    "    base_model_test.append(test_output)\n",
    "\n",
    "base_model_train = np.concatenate(base_model_train, axis=1)  # 将各基模型的输出拼接成一个向量\n",
    "base_model_test = np.concatenate(base_model_test, axis=1)"
   ]
  },
  {
   "cell_type": "code",
   "execution_count": 33,
   "id": "edfb8f62-8412-44b2-aca9-762b9afac6ae",
   "metadata": {
    "tags": []
   },
   "outputs": [
    {
     "data": {
      "text/plain": [
       "(11000, 18)"
      ]
     },
     "execution_count": 33,
     "metadata": {},
     "output_type": "execute_result"
    }
   ],
   "source": [
    "base_model_train.shape"
   ]
  },
  {
   "cell_type": "markdown",
   "id": "7be1e13c-c16a-486a-8319-eedb49226619",
   "metadata": {},
   "source": [
    "#### 第二层训练"
   ]
  },
  {
   "cell_type": "code",
   "execution_count": 34,
   "id": "dc556d05-e6a1-40c6-a88b-85c6cf2ccc49",
   "metadata": {},
   "outputs": [],
   "source": [
    "from sklearn.linear_model import LogisticRegression\n",
    "# stacking第二层训练：训练元学习器并得到测试集的预测结果\n",
    "def stacking_meta_train(base_model_train, train_labels, base_model_test):\n",
    "    meta_model = LogisticRegression(random_state=42, multi_class='multinomial', solver='lbfgs', max_iter=1000)  # 使用逻辑回归模型作为元学习器\n",
    "    meta_model.fit(base_model_train, train_labels)\n",
    "    predictions = meta_model.predict(base_model_test)\n",
    "    return predictions"
   ]
  },
  {
   "cell_type": "code",
   "execution_count": 35,
   "id": "cd5c840e-b8c6-4b49-a7b1-513090d8cc40",
   "metadata": {
    "tags": []
   },
   "outputs": [],
   "source": [
    "predictions = stacking_meta_train(base_model_train, all_labels, base_model_test)\n",
    "submit(predictions)"
   ]
  }
 ],
 "metadata": {
  "kernelspec": {
   "display_name": "pytorch_gpu",
   "language": "python",
   "name": "pytorch_gpu"
  },
  "language_info": {
   "codemirror_mode": {
    "name": "ipython",
    "version": 3
   },
   "file_extension": ".py",
   "mimetype": "text/x-python",
   "name": "python",
   "nbconvert_exporter": "python",
   "pygments_lexer": "ipython3",
   "version": "3.10.13"
  }
 },
 "nbformat": 4,
 "nbformat_minor": 5
}
